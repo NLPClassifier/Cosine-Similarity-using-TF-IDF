{
 "cells": [
  {
   "cell_type": "code",
   "execution_count": 1,
   "metadata": {},
   "outputs": [],
   "source": [
    "documents = (\n",
    "\"The sky is blue\",\n",
    "\"The sun is bright\",\n",
    "\"The sun in the sky is bright\",\n",
    "\"We can see the shining sun, the bright sun\"\n",
    ")"
   ]
  },
  {
   "cell_type": "code",
   "execution_count": 2,
   "metadata": {},
   "outputs": [
    {
     "name": "stdout",
     "output_type": "stream",
     "text": [
      "(4, 11)\n"
     ]
    }
   ],
   "source": [
    "from sklearn.feature_extraction.text import TfidfVectorizer\n",
    "tfidf_vectorizer = TfidfVectorizer()\n",
    "tfidf_matrix = tfidf_vectorizer.fit_transform(documents)\n",
    "print (tfidf_matrix.shape)"
   ]
  },
  {
   "cell_type": "code",
   "execution_count": 3,
   "metadata": {},
   "outputs": [
    {
     "data": {
      "text/plain": [
       "{'the': 9,\n",
       " 'sky': 7,\n",
       " 'is': 4,\n",
       " 'blue': 0,\n",
       " 'sun': 8,\n",
       " 'bright': 1,\n",
       " 'in': 3,\n",
       " 'we': 10,\n",
       " 'can': 2,\n",
       " 'see': 5,\n",
       " 'shining': 6}"
      ]
     },
     "execution_count": 3,
     "metadata": {},
     "output_type": "execute_result"
    }
   ],
   "source": [
    "tfidf_vectorizer.vocabulary_"
   ]
  },
  {
   "cell_type": "code",
   "execution_count": 4,
   "metadata": {},
   "outputs": [
    {
     "name": "stdout",
     "output_type": "stream",
     "text": [
      "  (0, 0)\t0.6591911178676787\n",
      "  (0, 4)\t0.42075315164463567\n",
      "  (0, 7)\t0.5197138488789809\n",
      "  (0, 9)\t0.3439932714296342\n",
      "  (1, 1)\t0.5221086219944969\n",
      "  (1, 8)\t0.5221086219944969\n",
      "  (1, 4)\t0.5221086219944969\n",
      "  (1, 9)\t0.42685800978431027\n",
      "  (2, 3)\t0.5042345768555538\n",
      "  (2, 1)\t0.32184639875982174\n",
      "  (2, 8)\t0.32184639875982174\n",
      "  (2, 4)\t0.32184639875982174\n",
      "  (2, 7)\t0.3975443320946988\n",
      "  (2, 9)\t0.5262610401109715\n",
      "  (3, 6)\t0.37459947122408604\n",
      "  (3, 5)\t0.37459947122408604\n",
      "  (3, 2)\t0.37459947122408604\n",
      "  (3, 10)\t0.37459947122408604\n",
      "  (3, 1)\t0.2391019900750339\n",
      "  (3, 8)\t0.4782039801500678\n",
      "  (3, 9)\t0.39096308821336656\n"
     ]
    }
   ],
   "source": [
    "print (tfidf_matrix)"
   ]
  },
  {
   "cell_type": "code",
   "execution_count": 5,
   "metadata": {},
   "outputs": [],
   "source": [
    "########################\n",
    "# heatmap the tf-idf\n",
    "# what is the type of tfidf_matrix?\n",
    "# convert to dataframe\n",
    "# bar plot the words and their tf-idf for each document"
   ]
  },
  {
   "cell_type": "code",
   "execution_count": 6,
   "metadata": {},
   "outputs": [
    {
     "data": {
      "text/plain": [
       "array([[0.7, 0. , 0. , 0. , 0.4, 0. , 0. , 0.5, 0. , 0.3, 0. ],\n",
       "       [0. , 0.5, 0. , 0. , 0.5, 0. , 0. , 0. , 0.5, 0.4, 0. ],\n",
       "       [0. , 0.3, 0. , 0.5, 0.3, 0. , 0. , 0.4, 0.3, 0.5, 0. ],\n",
       "       [0. , 0.2, 0.4, 0. , 0. , 0.4, 0.4, 0. , 0.5, 0.4, 0.4]])"
      ]
     },
     "execution_count": 6,
     "metadata": {},
     "output_type": "execute_result"
    }
   ],
   "source": [
    "round(tfidf_matrix,1).toarray()"
   ]
  },
  {
   "cell_type": "code",
   "execution_count": 7,
   "metadata": {},
   "outputs": [
    {
     "data": {
      "text/plain": [
       "<AxesSubplot:>"
      ]
     },
     "execution_count": 7,
     "metadata": {},
     "output_type": "execute_result"
    },
    {
     "data": {
      "image/png": "[encoded data removed]",
      "text/plain": [
       "<Figure size 432x288 with 2 Axes>"
      ]
     },
     "metadata": {
      "needs_background": "light"
     },
     "output_type": "display_data"
    }
   ],
   "source": [
    "import seaborn as sns\n",
    "sns.heatmap(tfidf_matrix.toarray())"
   ]
  },
  {
   "cell_type": "code",
   "execution_count": 8,
   "metadata": {},
   "outputs": [
    {
     "data": {
      "text/plain": [
       "scipy.sparse.csr.csr_matrix"
      ]
     },
     "execution_count": 8,
     "metadata": {},
     "output_type": "execute_result"
    }
   ],
   "source": [
    "type(tfidf_matrix)"
   ]
  },
  {
   "cell_type": "code",
   "execution_count": 9,
   "metadata": {},
   "outputs": [],
   "source": [
    "import pandas as pd"
   ]
  },
  {
   "cell_type": "code",
   "execution_count": 10,
   "metadata": {},
   "outputs": [
    {
     "data": {
      "text/html": [
       "<div>\n",
       "<style scoped>\n",
       "    .dataframe tbody tr th:only-of-type {\n",
       "        vertical-align: middle;\n",
       "    }\n",
       "\n",
       "    .dataframe tbody tr th {\n",
       "        vertical-align: top;\n",
       "    }\n",
       "\n",
       "    .dataframe thead th {\n",
       "        text-align: right;\n",
       "    }\n",
       "</style>\n",
       "<table border=\"1\" class=\"dataframe\">\n",
       "  <thead>\n",
       "    <tr style=\"text-align: right;\">\n",
       "      <th></th>\n",
       "      <th>0</th>\n",
       "      <th>1</th>\n",
       "      <th>2</th>\n",
       "      <th>3</th>\n",
       "      <th>4</th>\n",
       "      <th>5</th>\n",
       "      <th>6</th>\n",
       "      <th>7</th>\n",
       "      <th>8</th>\n",
       "      <th>9</th>\n",
       "      <th>10</th>\n",
       "    </tr>\n",
       "  </thead>\n",
       "  <tbody>\n",
       "    <tr>\n",
       "      <th>0</th>\n",
       "      <td>0.659191</td>\n",
       "      <td>0.000000</td>\n",
       "      <td>0.000000</td>\n",
       "      <td>0.000000</td>\n",
       "      <td>0.420753</td>\n",
       "      <td>0.000000</td>\n",
       "      <td>0.000000</td>\n",
       "      <td>0.519714</td>\n",
       "      <td>0.000000</td>\n",
       "      <td>0.343993</td>\n",
       "      <td>0.000000</td>\n",
       "    </tr>\n",
       "    <tr>\n",
       "      <th>1</th>\n",
       "      <td>0.000000</td>\n",
       "      <td>0.522109</td>\n",
       "      <td>0.000000</td>\n",
       "      <td>0.000000</td>\n",
       "      <td>0.522109</td>\n",
       "      <td>0.000000</td>\n",
       "      <td>0.000000</td>\n",
       "      <td>0.000000</td>\n",
       "      <td>0.522109</td>\n",
       "      <td>0.426858</td>\n",
       "      <td>0.000000</td>\n",
       "    </tr>\n",
       "    <tr>\n",
       "      <th>2</th>\n",
       "      <td>0.000000</td>\n",
       "      <td>0.321846</td>\n",
       "      <td>0.000000</td>\n",
       "      <td>0.504235</td>\n",
       "      <td>0.321846</td>\n",
       "      <td>0.000000</td>\n",
       "      <td>0.000000</td>\n",
       "      <td>0.397544</td>\n",
       "      <td>0.321846</td>\n",
       "      <td>0.526261</td>\n",
       "      <td>0.000000</td>\n",
       "    </tr>\n",
       "    <tr>\n",
       "      <th>3</th>\n",
       "      <td>0.000000</td>\n",
       "      <td>0.239102</td>\n",
       "      <td>0.374599</td>\n",
       "      <td>0.000000</td>\n",
       "      <td>0.000000</td>\n",
       "      <td>0.374599</td>\n",
       "      <td>0.374599</td>\n",
       "      <td>0.000000</td>\n",
       "      <td>0.478204</td>\n",
       "      <td>0.390963</td>\n",
       "      <td>0.374599</td>\n",
       "    </tr>\n",
       "  </tbody>\n",
       "</table>\n",
       "</div>"
      ],
      "text/plain": [
       "         0         1         2         3         4         5         6   \\\n",
       "0  0.659191  0.000000  0.000000  0.000000  0.420753  0.000000  0.000000   \n",
       "1  0.000000  0.522109  0.000000  0.000000  0.522109  0.000000  0.000000   \n",
       "2  0.000000  0.321846  0.000000  0.504235  0.321846  0.000000  0.000000   \n",
       "3  0.000000  0.239102  0.374599  0.000000  0.000000  0.374599  0.374599   \n",
       "\n",
       "         7         8         9         10  \n",
       "0  0.519714  0.000000  0.343993  0.000000  \n",
       "1  0.000000  0.522109  0.426858  0.000000  \n",
       "2  0.397544  0.321846  0.526261  0.000000  \n",
       "3  0.000000  0.478204  0.390963  0.374599  "
      ]
     },
     "execution_count": 10,
     "metadata": {},
     "output_type": "execute_result"
    }
   ],
   "source": [
    "df = pd.DataFrame(tfidf_matrix.todense())\n",
    "df"
   ]
  },
  {
   "cell_type": "code",
   "execution_count": 11,
   "metadata": {},
   "outputs": [
    {
     "data": {
      "text/plain": [
       "{'the': 9,\n",
       " 'sky': 7,\n",
       " 'is': 4,\n",
       " 'blue': 0,\n",
       " 'sun': 8,\n",
       " 'bright': 1,\n",
       " 'in': 3,\n",
       " 'we': 10,\n",
       " 'can': 2,\n",
       " 'see': 5,\n",
       " 'shining': 6}"
      ]
     },
     "execution_count": 11,
     "metadata": {},
     "output_type": "execute_result"
    }
   ],
   "source": [
    "tfidf_vectorizer.vocabulary_"
   ]
  },
  {
   "cell_type": "code",
   "execution_count": 12,
   "metadata": {},
   "outputs": [],
   "source": [
    "d = tfidf_vectorizer.vocabulary_"
   ]
  },
  {
   "cell_type": "code",
   "execution_count": 13,
   "metadata": {},
   "outputs": [
    {
     "data": {
      "text/plain": [
       "dict_values([9, 7, 4, 0, 8, 1, 3, 10, 2, 5, 6])"
      ]
     },
     "execution_count": 13,
     "metadata": {},
     "output_type": "execute_result"
    }
   ],
   "source": [
    "d.values()"
   ]
  },
  {
   "cell_type": "code",
   "execution_count": 14,
   "metadata": {},
   "outputs": [
    {
     "data": {
      "text/plain": [
       "dict_keys(['the', 'sky', 'is', 'blue', 'sun', 'bright', 'in', 'we', 'can', 'see', 'shining'])"
      ]
     },
     "execution_count": 14,
     "metadata": {},
     "output_type": "execute_result"
    }
   ],
   "source": [
    "d.keys()"
   ]
  },
  {
   "cell_type": "code",
   "execution_count": 15,
   "metadata": {},
   "outputs": [
    {
     "data": {
      "text/plain": [
       "{9: 'the',\n",
       " 7: 'sky',\n",
       " 4: 'is',\n",
       " 0: 'blue',\n",
       " 8: 'sun',\n",
       " 1: 'bright',\n",
       " 3: 'in',\n",
       " 10: 'we',\n",
       " 2: 'can',\n",
       " 5: 'see',\n",
       " 6: 'shining'}"
      ]
     },
     "execution_count": 15,
     "metadata": {},
     "output_type": "execute_result"
    }
   ],
   "source": [
    "d2 = {}\n",
    "for k,v in d.items():\n",
    "    d2[v] = k\n",
    "d2\n",
    "\n"
   ]
  },
  {
   "cell_type": "code",
   "execution_count": 16,
   "metadata": {},
   "outputs": [
    {
     "data": {
      "text/plain": [
       "['blue',\n",
       " 'bright',\n",
       " 'can',\n",
       " 'in',\n",
       " 'is',\n",
       " 'see',\n",
       " 'shining',\n",
       " 'sky',\n",
       " 'sun',\n",
       " 'the',\n",
       " 'we']"
      ]
     },
     "execution_count": 16,
     "metadata": {},
     "output_type": "execute_result"
    }
   ],
   "source": [
    "cols2 = []\n",
    "for i in range(len(d2)):\n",
    "    cols2.append(d2[i])\n",
    "cols2"
   ]
  },
  {
   "cell_type": "code",
   "execution_count": 17,
   "metadata": {},
   "outputs": [
    {
     "data": {
      "text/html": [
       "<div>\n",
       "<style scoped>\n",
       "    .dataframe tbody tr th:only-of-type {\n",
       "        vertical-align: middle;\n",
       "    }\n",
       "\n",
       "    .dataframe tbody tr th {\n",
       "        vertical-align: top;\n",
       "    }\n",
       "\n",
       "    .dataframe thead th {\n",
       "        text-align: right;\n",
       "    }\n",
       "</style>\n",
       "<table border=\"1\" class=\"dataframe\">\n",
       "  <thead>\n",
       "    <tr style=\"text-align: right;\">\n",
       "      <th></th>\n",
       "      <th>0</th>\n",
       "      <th>1</th>\n",
       "      <th>2</th>\n",
       "      <th>3</th>\n",
       "      <th>4</th>\n",
       "      <th>5</th>\n",
       "      <th>6</th>\n",
       "      <th>7</th>\n",
       "      <th>8</th>\n",
       "      <th>9</th>\n",
       "      <th>10</th>\n",
       "    </tr>\n",
       "  </thead>\n",
       "  <tbody>\n",
       "    <tr>\n",
       "      <th>0</th>\n",
       "      <td>0.659191</td>\n",
       "      <td>0.000000</td>\n",
       "      <td>0.000000</td>\n",
       "      <td>0.000000</td>\n",
       "      <td>0.420753</td>\n",
       "      <td>0.000000</td>\n",
       "      <td>0.000000</td>\n",
       "      <td>0.519714</td>\n",
       "      <td>0.000000</td>\n",
       "      <td>0.343993</td>\n",
       "      <td>0.000000</td>\n",
       "    </tr>\n",
       "    <tr>\n",
       "      <th>1</th>\n",
       "      <td>0.000000</td>\n",
       "      <td>0.522109</td>\n",
       "      <td>0.000000</td>\n",
       "      <td>0.000000</td>\n",
       "      <td>0.522109</td>\n",
       "      <td>0.000000</td>\n",
       "      <td>0.000000</td>\n",
       "      <td>0.000000</td>\n",
       "      <td>0.522109</td>\n",
       "      <td>0.426858</td>\n",
       "      <td>0.000000</td>\n",
       "    </tr>\n",
       "    <tr>\n",
       "      <th>2</th>\n",
       "      <td>0.000000</td>\n",
       "      <td>0.321846</td>\n",
       "      <td>0.000000</td>\n",
       "      <td>0.504235</td>\n",
       "      <td>0.321846</td>\n",
       "      <td>0.000000</td>\n",
       "      <td>0.000000</td>\n",
       "      <td>0.397544</td>\n",
       "      <td>0.321846</td>\n",
       "      <td>0.526261</td>\n",
       "      <td>0.000000</td>\n",
       "    </tr>\n",
       "    <tr>\n",
       "      <th>3</th>\n",
       "      <td>0.000000</td>\n",
       "      <td>0.239102</td>\n",
       "      <td>0.374599</td>\n",
       "      <td>0.000000</td>\n",
       "      <td>0.000000</td>\n",
       "      <td>0.374599</td>\n",
       "      <td>0.374599</td>\n",
       "      <td>0.000000</td>\n",
       "      <td>0.478204</td>\n",
       "      <td>0.390963</td>\n",
       "      <td>0.374599</td>\n",
       "    </tr>\n",
       "  </tbody>\n",
       "</table>\n",
       "</div>"
      ],
      "text/plain": [
       "         0         1         2         3         4         5         6   \\\n",
       "0  0.659191  0.000000  0.000000  0.000000  0.420753  0.000000  0.000000   \n",
       "1  0.000000  0.522109  0.000000  0.000000  0.522109  0.000000  0.000000   \n",
       "2  0.000000  0.321846  0.000000  0.504235  0.321846  0.000000  0.000000   \n",
       "3  0.000000  0.239102  0.374599  0.000000  0.000000  0.374599  0.374599   \n",
       "\n",
       "         7         8         9         10  \n",
       "0  0.519714  0.000000  0.343993  0.000000  \n",
       "1  0.000000  0.522109  0.426858  0.000000  \n",
       "2  0.397544  0.321846  0.526261  0.000000  \n",
       "3  0.000000  0.478204  0.390963  0.374599  "
      ]
     },
     "execution_count": 17,
     "metadata": {},
     "output_type": "execute_result"
    }
   ],
   "source": [
    "df"
   ]
  },
  {
   "cell_type": "code",
   "execution_count": 18,
   "metadata": {},
   "outputs": [
    {
     "data": {
      "text/html": [
       "<div>\n",
       "<style scoped>\n",
       "    .dataframe tbody tr th:only-of-type {\n",
       "        vertical-align: middle;\n",
       "    }\n",
       "\n",
       "    .dataframe tbody tr th {\n",
       "        vertical-align: top;\n",
       "    }\n",
       "\n",
       "    .dataframe thead th {\n",
       "        text-align: right;\n",
       "    }\n",
       "</style>\n",
       "<table border=\"1\" class=\"dataframe\">\n",
       "  <thead>\n",
       "    <tr style=\"text-align: right;\">\n",
       "      <th></th>\n",
       "      <th>blue</th>\n",
       "      <th>bright</th>\n",
       "      <th>can</th>\n",
       "      <th>in</th>\n",
       "      <th>is</th>\n",
       "      <th>see</th>\n",
       "      <th>shining</th>\n",
       "      <th>sky</th>\n",
       "      <th>sun</th>\n",
       "      <th>the</th>\n",
       "      <th>we</th>\n",
       "    </tr>\n",
       "  </thead>\n",
       "  <tbody>\n",
       "    <tr>\n",
       "      <th>0</th>\n",
       "      <td>0.659191</td>\n",
       "      <td>0.000000</td>\n",
       "      <td>0.000000</td>\n",
       "      <td>0.000000</td>\n",
       "      <td>0.420753</td>\n",
       "      <td>0.000000</td>\n",
       "      <td>0.000000</td>\n",
       "      <td>0.519714</td>\n",
       "      <td>0.000000</td>\n",
       "      <td>0.343993</td>\n",
       "      <td>0.000000</td>\n",
       "    </tr>\n",
       "    <tr>\n",
       "      <th>1</th>\n",
       "      <td>0.000000</td>\n",
       "      <td>0.522109</td>\n",
       "      <td>0.000000</td>\n",
       "      <td>0.000000</td>\n",
       "      <td>0.522109</td>\n",
       "      <td>0.000000</td>\n",
       "      <td>0.000000</td>\n",
       "      <td>0.000000</td>\n",
       "      <td>0.522109</td>\n",
       "      <td>0.426858</td>\n",
       "      <td>0.000000</td>\n",
       "    </tr>\n",
       "    <tr>\n",
       "      <th>2</th>\n",
       "      <td>0.000000</td>\n",
       "      <td>0.321846</td>\n",
       "      <td>0.000000</td>\n",
       "      <td>0.504235</td>\n",
       "      <td>0.321846</td>\n",
       "      <td>0.000000</td>\n",
       "      <td>0.000000</td>\n",
       "      <td>0.397544</td>\n",
       "      <td>0.321846</td>\n",
       "      <td>0.526261</td>\n",
       "      <td>0.000000</td>\n",
       "    </tr>\n",
       "    <tr>\n",
       "      <th>3</th>\n",
       "      <td>0.000000</td>\n",
       "      <td>0.239102</td>\n",
       "      <td>0.374599</td>\n",
       "      <td>0.000000</td>\n",
       "      <td>0.000000</td>\n",
       "      <td>0.374599</td>\n",
       "      <td>0.374599</td>\n",
       "      <td>0.000000</td>\n",
       "      <td>0.478204</td>\n",
       "      <td>0.390963</td>\n",
       "      <td>0.374599</td>\n",
       "    </tr>\n",
       "  </tbody>\n",
       "</table>\n",
       "</div>"
      ],
      "text/plain": [
       "       blue    bright       can        in        is       see   shining  \\\n",
       "0  0.659191  0.000000  0.000000  0.000000  0.420753  0.000000  0.000000   \n",
       "1  0.000000  0.522109  0.000000  0.000000  0.522109  0.000000  0.000000   \n",
       "2  0.000000  0.321846  0.000000  0.504235  0.321846  0.000000  0.000000   \n",
       "3  0.000000  0.239102  0.374599  0.000000  0.000000  0.374599  0.374599   \n",
       "\n",
       "        sky       sun       the        we  \n",
       "0  0.519714  0.000000  0.343993  0.000000  \n",
       "1  0.000000  0.522109  0.426858  0.000000  \n",
       "2  0.397544  0.321846  0.526261  0.000000  \n",
       "3  0.000000  0.478204  0.390963  0.374599  "
      ]
     },
     "execution_count": 18,
     "metadata": {},
     "output_type": "execute_result"
    }
   ],
   "source": [
    "df.columns = cols2\n",
    "df"
   ]
  },
  {
   "cell_type": "code",
   "execution_count": 19,
   "metadata": {},
   "outputs": [
    {
     "data": {
      "text/plain": [
       "<AxesSubplot:>"
      ]
     },
     "execution_count": 19,
     "metadata": {},
     "output_type": "execute_result"
    },
    {
     "data": {
      "image/png": "[encoded data removed]",
      "text/plain": [
       "<Figure size 864x504 with 1 Axes>"
      ]
     },
     "metadata": {
      "needs_background": "light"
     },
     "output_type": "display_data"
    }
   ],
   "source": [
    "import matplotlib.pyplot as plt\n",
    "df.T.plot.barh(figsize=(12,7))"
   ]
  },
  {
   "cell_type": "code",
   "execution_count": 20,
   "metadata": {},
   "outputs": [],
   "source": [
    "##################################################"
   ]
  },
  {
   "cell_type": "code",
   "execution_count": 21,
   "metadata": {},
   "outputs": [
    {
     "data": {
      "text/plain": [
       "array([[1.        , 0.36651513, 0.52305744, 0.13448867]])"
      ]
     },
     "execution_count": 21,
     "metadata": {},
     "output_type": "execute_result"
    }
   ],
   "source": [
    "from sklearn.metrics.pairwise import cosine_similarity\n",
    "cosine_similarity(tfidf_matrix[0:1], tfidf_matrix)"
   ]
  },
  {
   "cell_type": "code",
   "execution_count": 22,
   "metadata": {},
   "outputs": [
    {
     "data": {
      "text/plain": [
       "array([[0.36651513]])"
      ]
     },
     "execution_count": 22,
     "metadata": {},
     "output_type": "execute_result"
    }
   ],
   "source": [
    "cosine_similarity(tfidf_matrix[0],tfidf_matrix[1])"
   ]
  },
  {
   "cell_type": "code",
   "execution_count": 23,
   "metadata": {},
   "outputs": [],
   "source": [
    "a = tfidf_matrix[0].toarray().reshape(11)\n",
    "b = tfidf_matrix[1].toarray().reshape(11)"
   ]
  },
  {
   "cell_type": "code",
   "execution_count": 24,
   "metadata": {},
   "outputs": [
    {
     "data": {
      "text/plain": [
       "array([0.65919112, 0.        , 0.        , 0.        , 0.42075315,\n",
       "       0.        , 0.        , 0.51971385, 0.        , 0.34399327,\n",
       "       0.        ])"
      ]
     },
     "execution_count": 24,
     "metadata": {},
     "output_type": "execute_result"
    }
   ],
   "source": [
    "a"
   ]
  },
  {
   "cell_type": "code",
   "execution_count": 25,
   "metadata": {},
   "outputs": [
    {
     "data": {
      "text/plain": [
       "array([0.        , 0.52210862, 0.        , 0.        , 0.52210862,\n",
       "       0.        , 0.        , 0.        , 0.52210862, 0.42685801,\n",
       "       0.        ])"
      ]
     },
     "execution_count": 25,
     "metadata": {},
     "output_type": "execute_result"
    }
   ],
   "source": [
    "b"
   ]
  },
  {
   "cell_type": "code",
   "execution_count": 26,
   "metadata": {},
   "outputs": [],
   "source": [
    "import numpy as np\n",
    "import numpy.linalg as npl\n",
    "\n",
    "cos_sim = np.dot(a, b)/(npl.norm(a)*npl.norm(b))"
   ]
  },
  {
   "cell_type": "code",
   "execution_count": 27,
   "metadata": {},
   "outputs": [
    {
     "data": {
      "text/plain": [
       "0.36651513142667014"
      ]
     },
     "execution_count": 27,
     "metadata": {},
     "output_type": "execute_result"
    }
   ],
   "source": [
    "cos_sim"
   ]
  },
  {
   "cell_type": "code",
   "execution_count": 28,
   "metadata": {},
   "outputs": [],
   "source": [
    "a1 = np.array([3,4])"
   ]
  },
  {
   "cell_type": "code",
   "execution_count": 29,
   "metadata": {},
   "outputs": [
    {
     "data": {
      "text/plain": [
       "5.0"
      ]
     },
     "execution_count": 29,
     "metadata": {},
     "output_type": "execute_result"
    }
   ],
   "source": [
    "npl.norm(a1)"
   ]
  },
  {
   "cell_type": "code",
   "execution_count": 30,
   "metadata": {},
   "outputs": [],
   "source": [
    "##########################\n",
    "# document #1 (the second), to which other document is most similar?\n"
   ]
  },
  {
   "cell_type": "code",
   "execution_count": 31,
   "metadata": {},
   "outputs": [
    {
     "data": {
      "text/plain": [
       "array([[0.36651513, 1.        , 0.72875508, 0.54139736]])"
      ]
     },
     "execution_count": 31,
     "metadata": {},
     "output_type": "execute_result"
    }
   ],
   "source": [
    "cosine_similarity(tfidf_matrix[1:2], tfidf_matrix)"
   ]
  },
  {
   "cell_type": "code",
   "execution_count": 32,
   "metadata": {},
   "outputs": [],
   "source": [
    "#####################################"
   ]
  }
 ],
 "metadata": {
  "kernelspec": {
   "display_name": "Python 3",
   "language": "python",
   "name": "python3"
  },
  "language_info": {
   "codemirror_mode": {
    "name": "ipython",
    "version": 3
   },
   "file_extension": ".py",
   "mimetype": "text/x-python",
   "name": "python",
   "nbconvert_exporter": "python",
   "pygments_lexer": "ipython3",
   "version": "3.7.4"
  }
 },
 "nbformat": 4,
 "nbformat_minor": 2
}
